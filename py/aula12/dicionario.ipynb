{
 "cells": [
  {
   "cell_type": "markdown",
   "metadata": {},
   "source": [
    "# Dicionario \n",
    "\n",
    "É um conjuto de keys"
   ]
  },
  {
   "cell_type": "code",
   "execution_count": null,
   "metadata": {},
   "outputs": [
    {
     "name": "stdout",
     "output_type": "stream",
     "text": [
      "{'nome': 'Luy', 'idade': 20, 'cidade': 'Belo Horizonte'}\n"
     ]
    }
   ],
   "source": [
    "pessoa = {\n",
    "    'nome':'Luy',\n",
    "    'idade': 20 ,\n",
    "    'cidade': 'Belo Horizonte'\n",
    "}\n",
    "\n",
    "\n",
    "print(pessoa)"
   ]
  },
  {
   "cell_type": "code",
   "execution_count": null,
   "metadata": {},
   "outputs": [
    {
     "name": "stdout",
     "output_type": "stream",
     "text": [
      "dict_keys(['nome', 'idade', 'cidade'])\n",
      "dict_values(['Luy', 20, 'Belo Horizonte'])\n"
     ]
    }
   ],
   "source": [
    "# Metodo KEYS()\n",
    "\n",
    "print (pessoa.keys())\n",
    "\n",
    "# Metodos VALUES()\n",
    "\n",
    "print(pessoa.values())"
   ]
  },
  {
   "cell_type": "code",
   "execution_count": null,
   "metadata": {},
   "outputs": [
    {
     "data": {
      "text/plain": [
       "20"
      ]
     },
     "execution_count": 55,
     "metadata": {},
     "output_type": "execute_result"
    }
   ],
   "source": [
    "# Olhando valor especificos de um dicionario\n",
    "\n",
    "pessoa['idade']"
   ]
  },
  {
   "cell_type": "code",
   "execution_count": null,
   "metadata": {},
   "outputs": [
    {
     "name": "stdout",
     "output_type": "stream",
     "text": [
      "{'nome': 'Luy', 'idade': 20, 'cidade': 'Belo Horizonte'}\n",
      "{'nome': 'Luy', 'idade': 20, 'cidade': 'Brasilia'}\n"
     ]
    }
   ],
   "source": [
    "# Atribuindo um novo valor a uma chave\n",
    "print(pessoa)\n",
    "pessoa['cidade'] = 'Brasilia'\n",
    "print(pessoa)"
   ]
  },
  {
   "cell_type": "code",
   "execution_count": null,
   "metadata": {},
   "outputs": [
    {
     "name": "stdout",
     "output_type": "stream",
     "text": [
      "{'nome': 'Luy', 'idade': 20, 'cidade': 'Brasilia', 'email': 'luy2@teste.com'}\n"
     ]
    }
   ],
   "source": [
    "# criando uma nova chave\n",
    "pessoa['email'] = 'luy2@teste.com'\n",
    "\n",
    "print(pessoa)\n"
   ]
  },
  {
   "cell_type": "code",
   "execution_count": null,
   "metadata": {},
   "outputs": [
    {
     "name": "stdout",
     "output_type": "stream",
     "text": [
      "{'nome': 'Luy', 'email': 'luy2@teste.com'}\n"
     ]
    }
   ],
   "source": [
    "# deletando uma chave \n",
    "del pessoa ['idade']\n",
    "\n",
    "pessoa.pop('cidade')\n",
    "print(pessoa)"
   ]
  },
  {
   "cell_type": "code",
   "execution_count": null,
   "metadata": {},
   "outputs": [
    {
     "name": "stdout",
     "output_type": "stream",
     "text": [
      "0 {'nome': 'Pedro', 'cidade': 'Samanbaia Norte'}\n",
      "1 {'nome': 'Amanda', 'cidade': 'Ceilândia'}\n",
      "2 {'nome': 'Lorena', 'cidade': 'Taguatinga'}\n"
     ]
    }
   ],
   "source": [
    "# lista de dicionario\n",
    "aluno = [\n",
    "    {'nome':'Pedro','cidade':'Samanbaia Norte' },\n",
    "    {'nome':'Amanda','cidade':'Ceilândia'},\n",
    "    {'nome':'Lorena','cidade':'Taguatinga'}\n",
    "]\n",
    "\n",
    "# print(alunos)\n",
    "\n",
    "\n",
    "for indice, aluno in enumerate(aluno):\n",
    "    print(indice, aluno)"
   ]
  },
  {
   "cell_type": "code",
   "execution_count": 15,
   "metadata": {},
   "outputs": [
    {
     "ename": "NameError",
     "evalue": "name 'aluno' is not defined",
     "output_type": "error",
     "traceback": [
      "\u001b[1;31m---------------------------------------------------------------------------\u001b[0m",
      "\u001b[1;31mNameError\u001b[0m                                 Traceback (most recent call last)",
      "Cell \u001b[1;32mIn[15], line 1\u001b[0m\n\u001b[1;32m----> 1\u001b[0m \u001b[38;5;28mprint\u001b[39m (\u001b[43maluno\u001b[49m[\u001b[38;5;241m1\u001b[39m])\n",
      "\u001b[1;31mNameError\u001b[0m: name 'aluno' is not defined"
     ]
    }
   ],
   "source": [
    "print (aluno[1])"
   ]
  },
  {
   "cell_type": "code",
   "execution_count": 12,
   "metadata": {},
   "outputs": [
    {
     "name": "stdout",
     "output_type": "stream",
     "text": [
      "{'Daniel': {'matricula': '1234', 'escolaridade': 'cursando'}, 'Luana': {'matricula': '5842', 'escolaridade': 'cursando'}, 'Gilmar': {'matricula': '9978', 'escolaridade': 'cursando'}, 'Felipe': {'matricula': '1465', 'escolaridade': 'medio'}}\n"
     ]
    }
   ],
   "source": [
    "alunos_dicionario ={\n",
    "    'Daniel':{'matricula':'1234','escolaridade':'cursando'},\n",
    "    'Luana':{'matricula':'5842','escolaridade':'cursando'},\n",
    "    'Gilmar':{'matricula':'9978','escolaridade':'cursando'},\n",
    "    'Felipe':{'matricula':'1465','escolaridade':'medio'},\n",
    "}\n",
    "\n",
    "print(alunos_dicionario)"
   ]
  },
  {
   "cell_type": "code",
   "execution_count": 13,
   "metadata": {},
   "outputs": [
    {
     "name": "stdout",
     "output_type": "stream",
     "text": [
      "medio\n"
     ]
    }
   ],
   "source": [
    "print(alunos_dicionario['Felipe']['escolaridade'])"
   ]
  }
 ],
 "metadata": {
  "interpreter": {
   "hash": "023695796a0456db28915f727eb64cb942055160ea749933aa044f2070f70f3a"
  },
  "kernelspec": {
   "display_name": "Python 3.12.5 64-bit (windows store)",
   "language": "python",
   "name": "python3"
  },
  "language_info": {
   "codemirror_mode": {
    "name": "ipython",
    "version": 3
   },
   "file_extension": ".py",
   "mimetype": "text/x-python",
   "name": "python",
   "nbconvert_exporter": "python",
   "pygments_lexer": "ipython3",
   "version": "3.12.5"
  },
  "orig_nbformat": 4
 },
 "nbformat": 4,
 "nbformat_minor": 2
}
