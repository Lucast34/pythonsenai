{
 "cells": [
  {
   "cell_type": "code",
   "execution_count": null,
   "metadata": {},
   "outputs": [],
   "source": [
    "# função fatorial convencional\n",
    "\n",
    "def fatorial(numero)"
   ]
  },
  {
   "cell_type": "code",
   "execution_count": 1,
   "metadata": {},
   "outputs": [],
   "source": [
    "def fatorial2(numero):\n",
    "    if numero == 0 or numero == 1:\n",
    "        return 1\n",
    "    else:\n",
    "        return numero * fatorial2(numero-1)"
   ]
  },
  {
   "cell_type": "code",
   "execution_count": 2,
   "metadata": {},
   "outputs": [
    {
     "name": "stdout",
     "output_type": "stream",
     "text": [
      "120\n"
     ]
    }
   ],
   "source": [
    "print(fatorial2(5))"
   ]
  }
 ],
 "metadata": {
  "interpreter": {
   "hash": "023695796a0456db28915f727eb64cb942055160ea749933aa044f2070f70f3a"
  },
  "kernelspec": {
   "display_name": "Python 3.12.5 64-bit (windows store)",
   "language": "python",
   "name": "python3"
  },
  "language_info": {
   "codemirror_mode": {
    "name": "ipython",
    "version": 3
   },
   "file_extension": ".py",
   "mimetype": "text/x-python",
   "name": "python",
   "nbconvert_exporter": "python",
   "pygments_lexer": "ipython3",
   "version": "3.12.5"
  },
  "orig_nbformat": 4
 },
 "nbformat": 4,
 "nbformat_minor": 2
}
