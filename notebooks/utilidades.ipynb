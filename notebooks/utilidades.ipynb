{
 "cells": [
  {
   "cell_type": "code",
   "execution_count": 2,
   "id": "b8e65bc1-2d64-4ea4-8f96-622f329bad7b",
   "metadata": {},
   "outputs": [
    {
     "data": {
      "text/plain": [
       "False"
      ]
     },
     "metadata": {},
     "output_type": "display_data"
    }
   ],
   "source": [
    "# ANY (Qualquer)\n",
    "\n",
    "resposta = any([False, False, False, False, False])\n",
    "display(resposta)"
   ]
  },
  {
   "cell_type": "code",
   "execution_count": 4,
   "id": "a7d6f9c3-9f08-43e4-bcef-ccbf589c4aec",
   "metadata": {},
   "outputs": [
    {
     "data": {
      "text/plain": [
       "True"
      ]
     },
     "metadata": {},
     "output_type": "display_data"
    }
   ],
   "source": [
    "# ANY (Qualquer)\n",
    "\n",
    "resposta = any([False, False, True, False, False])\n",
    "display(resposta)"
   ]
  },
  {
   "cell_type": "code",
   "execution_count": 5,
   "id": "1994bb12-6ec6-438b-a1ca-0fc0deb45df7",
   "metadata": {},
   "outputs": [
    {
     "data": {
      "text/plain": [
       "True"
      ]
     },
     "metadata": {},
     "output_type": "display_data"
    }
   ],
   "source": [
    "nomes = ('Luciano','','','','','')\n",
    "\n",
    "resposta= any(nomes)\n",
    "display(resposta)"
   ]
  },
  {
   "cell_type": "code",
   "execution_count": 11,
   "id": "343e6442-53ba-495b-b4c4-5ed0b4e22251",
   "metadata": {},
   "outputs": [
    {
     "data": {
      "text/plain": [
       "True"
      ]
     },
     "metadata": {},
     "output_type": "display_data"
    }
   ],
   "source": [
    "numeros = [1,2,3,4,5,6,7,8,9,10]\n",
    "\n",
    "resposta = any(num % 2 != 0 for num in numeros)\n",
    "\n",
    "display(resposta)"
   ]
  },
  {
   "cell_type": "code",
   "execution_count": 25,
   "id": "d930bfe4-5f23-460a-a072-56dec7026177",
   "metadata": {},
   "outputs": [
    {
     "data": {
      "text/plain": [
       "False"
      ]
     },
     "metadata": {},
     "output_type": "display_data"
    }
   ],
   "source": [
    "tabuleiro = [0,1,2,3,4,5,6,7,8]\n",
    "venceu = False\n",
    "combinacoes_vitoria=[\n",
    "    (0,1,2) ,(3,4,5) ,(6,7,8),\n",
    "    (0,3,6) ,(1,4,7) ,(2,5,8),\n",
    "    (0,4,8), (2,4,6)\n",
    "]\n",
    "\n",
    "\n",
    "res = any(tabuleiro[a] == tabuleiro[b] == tabuleiro[c] for a,b,c in combinacoes_vitoria)\n",
    "\n",
    "#for a,b,c in combinacoes_vitoria:\n",
    " #   if tabuleiro[a]==tabuleiro[b] == tabuleiro[c]:\n",
    "  #      venceu = True\n",
    "\n",
    "display(res)"
   ]
  },
  {
   "cell_type": "code",
   "execution_count": 28,
   "id": "e67c5273-482b-4e66-9068-88dd38b59624",
   "metadata": {},
   "outputs": [
    {
     "name": "stdout",
     "output_type": "stream",
     "text": [
      "luciano lucas luan\n",
      "luciana luca luana\n",
      "joana jorge jô\n"
     ]
    }
   ],
   "source": [
    "list_nomes=[\n",
    "    ['luciano','lucas','luan'],\n",
    "    ['luciana','luca','luana'],\n",
    "    ['joana','jorge','jô']\n",
    "]\n",
    "\n",
    "for nome1, nome2, nome3 in list_nomes:\n",
    "    print(nome1, nome2, nome3)"
   ]
  },
  {
   "cell_type": "code",
   "execution_count": 33,
   "id": "49bad307-d009-4e49-94d9-f23dd0b87013",
   "metadata": {},
   "outputs": [
    {
     "name": "stdout",
     "output_type": "stream",
     "text": [
      "False\n"
     ]
    }
   ],
   "source": [
    "lista = [False, False, False]\n",
    "\n",
    "res= all(lista)\n",
    "\n",
    "print(res)"
   ]
  },
  {
   "cell_type": "code",
   "execution_count": 47,
   "id": "06841cec-d71d-45c4-8aea-64a919e4ba0c",
   "metadata": {},
   "outputs": [
    {
     "name": "stdout",
     "output_type": "stream",
     "text": [
      "['laranja', 'morango', 'uva'] ['laranja', 'morango', 'uva']\n",
      "['laranja', 'kiwi', 'uva'] ['laranja', 'morango', 'uva']\n"
     ]
    }
   ],
   "source": [
    "lista_fru = ['laranja', 'morango', 'uva']\n",
    "\n",
    "copia_lista = lista_fru[:]\n",
    "\n",
    "print(lista_fru, copia_lista)\n",
    "\n",
    "lista_fru[1] = 'kiwi'\n",
    "\n",
    "print(lista_fru, copia_lista)"
   ]
  },
  {
   "cell_type": "code",
   "execution_count": 59,
   "id": "21c06a37-1fb1-4eb8-a23b-61f644101015",
   "metadata": {},
   "outputs": [
    {
     "name": "stdin",
     "output_type": "stream",
     "text": [
      "Informe o numero:  10\n",
      "Informe o numero:  0\n"
     ]
    },
    {
     "name": "stdout",
     "output_type": "stream",
     "text": [
      "<class 'ZeroDivisionError'>\n",
      "estou depois do try\n"
     ]
    }
   ],
   "source": [
    "try:\n",
    "    nun1 = int(input('Informe o numero: '))\n",
    "    nun2 = int(input('Informe o numero: '))\n",
    "    \n",
    "    print('o resultado é:' , nun1 / nun2)\n",
    "except ValueError:\n",
    "    print(ValueError)\n",
    "except ZeroDivisionError:\n",
    "    print(ZeroDivisionError)\n",
    "\n",
    "\n",
    "print('estou depois do try')"
   ]
  },
  {
   "cell_type": "code",
   "execution_count": null,
   "id": "ab19d201-0722-4356-927f-6f0b56a8b95e",
   "metadata": {},
   "outputs": [],
   "source": []
  }
 ],
 "metadata": {
  "kernelspec": {
   "display_name": "Python 3 (ipykernel)",
   "language": "python",
   "name": "python3"
  },
  "language_info": {
   "codemirror_mode": {
    "name": "ipython",
    "version": 3
   },
   "file_extension": ".py",
   "mimetype": "text/x-python",
   "name": "python",
   "nbconvert_exporter": "python",
   "pygments_lexer": "ipython3",
   "version": "3.12.5"
  }
 },
 "nbformat": 4,
 "nbformat_minor": 5
}
