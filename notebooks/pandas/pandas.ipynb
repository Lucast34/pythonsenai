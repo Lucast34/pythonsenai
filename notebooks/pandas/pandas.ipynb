{
 "cells": [
  {
   "cell_type": "markdown",
   "metadata": {},
   "source": [
    "# analise exploratoria de top 10 do catalogo Netflix\n",
    "\n",
    "Analisaremos a seguir uma base de dados do ctalogo Netflix, com intuito de enteder quais produtos do seu catalogo alcançaram o top 10 mais assistidos da plataforma para fins de estudos e aprendizado da bibliotea \"pandas\""
   ]
  },
  {
   "cell_type": "code",
   "execution_count": null,
   "metadata": {},
   "outputs": [],
   "source": [
    "#instalando a biblioteca de analise de dados pandas\n",
    "#%pip install pandas"
   ]
  },
  {
   "cell_type": "code",
   "execution_count": 1,
   "metadata": {},
   "outputs": [],
   "source": [
    "#Importanto a biblioteca de analise de dados pandas\n",
    "import pandas as pd"
   ]
  },
  {
   "cell_type": "code",
   "execution_count": null,
   "metadata": {},
   "outputs": [],
   "source": [
    "base_netflix = pd.read_csv(\"./netflixdataframe.csv\")"
   ]
  }
 ],
 "metadata": {
  "interpreter": {
   "hash": "e0933ac7dd8f01668085def2ccc50fb61f43c2676894fa21818ec03e0ff204ad"
  },
  "kernelspec": {
   "display_name": "Python 3.12.5 64-bit ('venv': venv)",
   "language": "python",
   "name": "python3"
  },
  "language_info": {
   "codemirror_mode": {
    "name": "ipython",
    "version": 3
   },
   "file_extension": ".py",
   "mimetype": "text/x-python",
   "name": "python",
   "nbconvert_exporter": "python",
   "pygments_lexer": "ipython3",
   "version": "3.12.5"
  },
  "orig_nbformat": 4
 },
 "nbformat": 4,
 "nbformat_minor": 2
}
