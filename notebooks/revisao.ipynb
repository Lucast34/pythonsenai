{
 "cells": [
  {
   "cell_type": "code",
   "execution_count": 15,
   "metadata": {},
   "outputs": [
    {
     "name": "stdout",
     "output_type": "stream",
     "text": [
      "O quê você deseja fazer ?(Aperte 0 se quer sair do programa)\n",
      "1- Cadastrar um nome\n",
      "2- Atualizar o nome\n",
      "3- Excluir\n",
      "4- Listar todo os casdastados\n"
     ]
    }
   ],
   "source": [
    "def menu_cadastro():\n",
    "    print ('O quê você deseja fazer ?(Aperte 0 se quer sair do programa)')\n",
    "    print ('1- Cadastrar um nome')\n",
    "    print ('2- Atualizar o nome')\n",
    "    print ('3- Excluir')\n",
    "    print ('4- Listar todo os casdastados')\n",
    "    \n",
    "    \n",
    "\n",
    "menu_cadastro()"
   ]
  },
  {
   "cell_type": "code",
   "execution_count": 3,
   "metadata": {},
   "outputs": [
    {
     "name": "stdout",
     "output_type": "stream",
     "text": [
      "O quê você deseja fazer ?(Aperte 0 se quer sair do programa)\n",
      "1- Cadastrar um nome\n",
      "2- Atualizar o nome\n",
      "3- Excluir\n",
      "4- Listar todo os casdastados\n",
      "[]\n",
      "Nome adicionado!\n",
      "O quê você deseja fazer ?(Aperte 0 se quer sair do programa)\n",
      "1- Cadastrar um nome\n",
      "2- Atualizar o nome\n",
      "3- Excluir\n",
      "4- Listar todo os casdastados\n",
      "[]\n",
      "[]\n",
      "[]\n",
      "[]\n",
      "[]\n",
      "[]\n",
      "[]\n",
      "[]\n",
      "[]\n",
      "[]\n",
      "[]\n",
      "[]\n"
     ]
    },
    {
     "ename": "ValueError",
     "evalue": "invalid literal for int() with base 10: ''",
     "output_type": "error",
     "traceback": [
      "\u001b[1;31m---------------------------------------------------------------------------\u001b[0m",
      "\u001b[1;31mValueError\u001b[0m                                Traceback (most recent call last)",
      "Cell \u001b[1;32mIn[3], line 39\u001b[0m\n\u001b[0;32m     36\u001b[0m menu_cadastro()\n\u001b[0;32m     38\u001b[0m \u001b[38;5;28;01mwhile\u001b[39;00m \u001b[38;5;28;01mTrue\u001b[39;00m:\n\u001b[1;32m---> 39\u001b[0m     opition \u001b[38;5;241m=\u001b[39m \u001b[38;5;28;43mint\u001b[39;49m\u001b[43m(\u001b[49m\u001b[38;5;28;43minput\u001b[39;49m\u001b[43m(\u001b[49m\u001b[38;5;124;43m'\u001b[39;49m\u001b[38;5;124;43mDigite um valor\u001b[39;49m\u001b[38;5;124;43m'\u001b[39;49m\u001b[43m)\u001b[49m\u001b[43m)\u001b[49m\n\u001b[0;32m     40\u001b[0m     \u001b[38;5;28;01mmatch\u001b[39;00m opition:\n\u001b[0;32m     41\u001b[0m         \u001b[38;5;28;01mcase\u001b[39;00m \u001b[38;5;241m1\u001b[39m:\n",
      "\u001b[1;31mValueError\u001b[0m: invalid literal for int() with base 10: ''"
     ]
    }
   ],
   "source": [
    "\n",
    "from os import system\n",
    "\n",
    "\n",
    "pessoa = []\n",
    "\n",
    "def cadastro ():\n",
    "    system('clear')\n",
    "    cadastro = input('seu nome por favor: ') \n",
    "    pessoa.append\n",
    "    return cadastro\n",
    "\n",
    "def atualizar ():\n",
    "    atualizar = int (input('selecione um numero'))\n",
    "    pessoa.index\n",
    "    return atualizar\n",
    "\n",
    "def excluir ():\n",
    "    excluir = print()\n",
    "    return excluir\n",
    "\n",
    "def lista ():\n",
    "    lista = print(pessoa)\n",
    "    return lista\n",
    "\n",
    "\n",
    "\n",
    "def menu_cadastro():\n",
    "    print ('O quê você deseja fazer ?(Aperte 0 se quer sair do programa)')\n",
    "    print ('1- Cadastrar um nome')\n",
    "    print ('2- Atualizar o nome')\n",
    "    print ('3- Excluir')\n",
    "    print ('4- Listar todo os casdastados')\n",
    "    \n",
    "    \n",
    "\n",
    "menu_cadastro()\n",
    "\n",
    "while True:\n",
    "    opition = int(input('Digite um valor'))\n",
    "    match opition:\n",
    "        case 1:\n",
    "            cadastro ()\n",
    "            print('Nome adicionado!')\n",
    "            menu_cadastro ()\n",
    "        case 2:\n",
    "            atualizar()\n",
    "        case 3:\n",
    "            excluir()\n",
    "        case 4:\n",
    "            lista()"
   ]
  }
 ],
 "metadata": {
  "interpreter": {
   "hash": "023695796a0456db28915f727eb64cb942055160ea749933aa044f2070f70f3a"
  },
  "kernelspec": {
   "display_name": "Python 3.12.5 64-bit (windows store)",
   "language": "python",
   "name": "python3"
  },
  "language_info": {
   "codemirror_mode": {
    "name": "ipython",
    "version": 3
   },
   "file_extension": ".py",
   "mimetype": "text/x-python",
   "name": "python",
   "nbconvert_exporter": "python",
   "pygments_lexer": "ipython3",
   "version": "3.12.5"
  },
  "orig_nbformat": 4
 },
 "nbformat": 4,
 "nbformat_minor": 2
}
