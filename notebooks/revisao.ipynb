{
 "cells": [
  {
   "cell_type": "code",
   "execution_count": 7,
   "metadata": {},
   "outputs": [
    {
     "name": "stdout",
     "output_type": "stream",
     "text": [
      "<function menu_cadastro at 0x00000171D3DF02C0>\n"
     ]
    }
   ],
   "source": [
    "def menu_cadastro():\n",
    "    print ('O quê você deseja fazer ?(Aperte 0 se quer sair do programa)')\n",
    "    print ('1- Cadastrar um nome')\n",
    "    print ('2- Atualizar o nome')\n",
    "    print ('3- Excluir')\n",
    "    print ('4- Listar todo os casdastados')\n",
    "    selecao = input('Insira a opção: ')\n",
    "    return selecao\n",
    "\n",
    "menu = menu_cadastro\n",
    "\n",
    "print(menu)"
   ]
  }
 ],
 "metadata": {
  "interpreter": {
   "hash": "023695796a0456db28915f727eb64cb942055160ea749933aa044f2070f70f3a"
  },
  "kernelspec": {
   "display_name": "Python 3.12.5 64-bit (windows store)",
   "language": "python",
   "name": "python3"
  },
  "language_info": {
   "codemirror_mode": {
    "name": "ipython",
    "version": 3
   },
   "file_extension": ".py",
   "mimetype": "text/x-python",
   "name": "python",
   "nbconvert_exporter": "python",
   "pygments_lexer": "ipython3",
   "version": "3.12.5"
  },
  "orig_nbformat": 4
 },
 "nbformat": 4,
 "nbformat_minor": 2
}
