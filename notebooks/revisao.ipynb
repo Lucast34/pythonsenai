{
 "cells": [
  {
   "cell_type": "code",
   "execution_count": 15,
   "metadata": {},
   "outputs": [
    {
     "name": "stdout",
     "output_type": "stream",
     "text": [
      "O quê você deseja fazer ?(Aperte 0 se quer sair do programa)\n",
      "1- Cadastrar um nome\n",
      "2- Atualizar o nome\n",
      "3- Excluir\n",
      "4- Listar todo os casdastados\n"
     ]
    }
   ],
   "source": [
    "def menu_cadastro():\n",
    "    print ('O quê você deseja fazer ?(Aperte 0 se quer sair do programa)')\n",
    "    print ('1- Cadastrar um nome')\n",
    "    print ('2- Atualizar o nome')\n",
    "    print ('3- Excluir')\n",
    "    print ('4- Listar todo os casdastados')\n",
    "    \n",
    "    \n",
    "\n",
    "menu_cadastro()"
   ]
  },
  {
   "cell_type": "code",
   "execution_count": 18,
   "metadata": {},
   "outputs": [
    {
     "name": "stdout",
     "output_type": "stream",
     "text": [
      "O quê você deseja fazer ?(Aperte 0 se quer sair do programa)\n",
      "1- Cadastrar um nome\n",
      "2- Atualizar o nome\n",
      "3- Excluir\n",
      "4- Listar todo os casdastados\n"
     ]
    }
   ],
   "source": [
    "def cadastro ():\n",
    "    pessoa.append = print(str(input('Digite um nome:')))\n",
    "    cadastro = pessoa.append\n",
    "    return cadastro\n",
    "\n",
    "def atualizar ():\n",
    "    atualizar = print()\n",
    "    return atualizar\n",
    "\n",
    "def excluir ():\n",
    "    excluir = print()\n",
    "    return excluir\n",
    "\n",
    "def lista ():\n",
    "    lista = print()\n",
    "    return lista\n",
    "\n",
    "pessoa = ['nome:']\n",
    "\n",
    "\n",
    "print ('O quê você deseja fazer ?(Aperte 0 se quer sair do programa)')\n",
    "print ('1- Cadastrar um nome')\n",
    "print ('2- Atualizar o nome')\n",
    "print ('3- Excluir')\n",
    "print ('4- Listar todo os casdastados')\n",
    "\n",
    "selecao = input('Insira a opção: ')\n",
    "\n",
    "match selecao:\n",
    "    case 1:\n",
    "        cadastro (print(str(input('Qual é o seu nome ?'))))\n",
    "    case 2:\n",
    "        atualizar ()\n",
    "    case 3:\n",
    "        excluir()\n",
    "    case 4:\n",
    "        lista()\n"
   ]
  }
 ],
 "metadata": {
  "interpreter": {
   "hash": "023695796a0456db28915f727eb64cb942055160ea749933aa044f2070f70f3a"
  },
  "kernelspec": {
   "display_name": "Python 3.12.5 64-bit (windows store)",
   "language": "python",
   "name": "python3"
  },
  "language_info": {
   "codemirror_mode": {
    "name": "ipython",
    "version": 3
   },
   "file_extension": ".py",
   "mimetype": "text/x-python",
   "name": "python",
   "nbconvert_exporter": "python",
   "pygments_lexer": "ipython3",
   "version": "3.12.5"
  },
  "orig_nbformat": 4
 },
 "nbformat": 4,
 "nbformat_minor": 2
}
